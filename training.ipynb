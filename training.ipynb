{
 "cells": [
  {
   "cell_type": "code",
   "execution_count": 26,
   "id": "73350761-bef2-4e96-b3ac-a158eabd2b65",
   "metadata": {
    "tags": []
   },
   "outputs": [],
   "source": [
    "import numpy as np\n",
    "import json\n",
    "import re\n",
    "import string\n",
    "from IPython.display import display, HTML\n",
    "\n",
    "import tensorflow as tf\n",
    "from tensorflow.keras import layers, models, losses, callbacks"
   ]
  },
  {
   "cell_type": "code",
   "execution_count": 27,
   "id": "2d8352af-343e-4c2e-8c91-95f8bac1c8a1",
   "metadata": {},
   "outputs": [],
   "source": [
    "VOCAB_SIZE = 50000\n",
    "MAX_LEN = 128\n",
    "EMBEDDING_DIM = 512\n",
    "KEY_DIM = 512\n",
    "N_HEADS = 4\n",
    "FEED_FORWARD_DIM = 512\n",
    "SEED = 42\n",
    "BATCH_SIZE = 256\n",
    "EPOCHS = 15"
   ]
  },
  {
   "cell_type": "code",
   "execution_count": 28,
   "id": "77337837-9849-4553-ad12-635a3e20d625",
   "metadata": {},
   "outputs": [],
   "source": [
    "with open(\"recipes.txt\", 'r', encoding='utf-8') as f:\n",
    "    recipes = [line for line in f]"
   ]
  },
  {
   "cell_type": "code",
   "execution_count": 29,
   "id": "5b2064fb-5dcc-4657-b470-0928d10e2ddc",
   "metadata": {
    "tags": []
   },
   "outputs": [],
   "source": [
    "# Pad the punctuation, to treat them as separate 'words'\n",
    "def pad_punctuation(s):\n",
    "    s = re.sub(f\"([{string.punctuation}, '\\n'])\", r\" \\1 \", s)\n",
    "    s = re.sub(\" +\", \" \", s)\n",
    "    return s\n",
    "\n",
    "\n",
    "text_data = [pad_punctuation(x) for x in recipes]"
   ]
  },
  {
   "cell_type": "code",
   "execution_count": 30,
   "id": "9834f916-b21a-4104-acc9-f28d3bd7a8c1",
   "metadata": {
    "tags": []
   },
   "outputs": [],
   "source": [
    "# Convert to a Tensorflow Dataset\n",
    "text_ds = (\n",
    "    tf.data.Dataset.from_tensor_slices(text_data)\n",
    "    .batch(BATCH_SIZE)\n",
    "    .shuffle(1000)\n",
    ")"
   ]
  },
  {
   "cell_type": "code",
   "execution_count": 31,
   "id": "884c0bcb-0807-45a1-8f7e-a32f2c6fa4de",
   "metadata": {},
   "outputs": [],
   "source": [
    "# Create a vectorisation layer\n",
    "vectorize_layer = layers.TextVectorization(\n",
    "    standardize=\"lower\",\n",
    "    max_tokens=VOCAB_SIZE,\n",
    "    output_mode=\"int\",\n",
    "    output_sequence_length=MAX_LEN + 1,\n",
    ")"
   ]
  },
  {
   "cell_type": "code",
   "execution_count": 32,
   "id": "4d6dd34a-d905-497b-926a-405380ebcf98",
   "metadata": {},
   "outputs": [],
   "source": [
    "# Adapt the layer to the training set\n",
    "vectorize_layer.adapt(text_ds)\n",
    "vocab = vectorize_layer.get_vocabulary()"
   ]
  },
  {
   "cell_type": "code",
   "execution_count": 33,
   "id": "740294a1-1a6b-4c89-92f2-036d7d1b788b",
   "metadata": {},
   "outputs": [],
   "source": [
    "# Create the training set of recipes and the same text shifted by one word\n",
    "def prepare_inputs(text):\n",
    "    text = tf.expand_dims(text, -1)\n",
    "    tokenized_sentences = vectorize_layer(text)\n",
    "    x = tokenized_sentences[:, :-1]\n",
    "    y = tokenized_sentences[:, 1:]\n",
    "    return x, y\n",
    "\n",
    "\n",
    "train_ds = text_ds.map(prepare_inputs)"
   ]
  },
  {
   "cell_type": "code",
   "execution_count": 34,
   "id": "5285a1cb-fce1-46b1-b088-b596002fa9ae",
   "metadata": {},
   "outputs": [],
   "source": [
    "def causal_attention_mask(batch_size, n_dest, n_src, dtype):\n",
    "    i = tf.range(n_dest)[:, None]\n",
    "    j = tf.range(n_src)\n",
    "    m = i >= j - n_src + n_dest\n",
    "    mask = tf.cast(m, dtype)\n",
    "    mask = tf.reshape(mask, [1, n_dest, n_src])\n",
    "    mult = tf.concat(\n",
    "        [tf.expand_dims(batch_size, -1), tf.constant([1, 1], dtype=tf.int32)], 0\n",
    "    )\n",
    "    return tf.tile(mask, mult)\n",
    "\n",
    "class TransformerBlock(layers.Layer):\n",
    "    def __init__(self, num_heads, key_dim, embed_dim, ff_dim, dropout_rate=0.2):\n",
    "        super(TransformerBlock, self).__init__()\n",
    "        self.num_heads = num_heads\n",
    "        self.key_dim = key_dim\n",
    "        self.embed_dim = embed_dim\n",
    "        self.ff_dim = ff_dim\n",
    "        self.dropout_rate = dropout_rate\n",
    "        self.attn = layers.MultiHeadAttention(\n",
    "            num_heads, key_dim, output_shape=embed_dim\n",
    "        )\n",
    "        self.dropout_1 = layers.Dropout(self.dropout_rate)\n",
    "        self.ln_1 = layers.LayerNormalization(epsilon=1e-6)\n",
    "        self.ffn_1 = layers.Dense(self.ff_dim, activation=\"relu\")\n",
    "        self.ffn_2 = layers.Dense(self.embed_dim)\n",
    "        self.dropout_2 = layers.Dropout(self.dropout_rate)\n",
    "        self.ln_2 = layers.LayerNormalization(epsilon=1e-6)\n",
    "\n",
    "    def call(self, inputs):\n",
    "        input_shape = tf.shape(inputs)\n",
    "        batch_size = input_shape[0]\n",
    "        seq_len = input_shape[1]\n",
    "        causal_mask = causal_attention_mask(\n",
    "            batch_size, seq_len, seq_len, tf.bool\n",
    "        )\n",
    "        attention_output, attention_scores = self.attn(\n",
    "            inputs,\n",
    "            inputs,\n",
    "            attention_mask=causal_mask,\n",
    "            return_attention_scores=True,\n",
    "        )\n",
    "        attention_output = self.dropout_1(attention_output)\n",
    "        out1 = self.ln_1(inputs + attention_output)\n",
    "        ffn_1 = self.ffn_1(out1)\n",
    "        ffn_2 = self.ffn_2(ffn_1)\n",
    "        ffn_output = self.dropout_2(ffn_2)\n",
    "        return (self.ln_2(out1 + ffn_output), attention_scores)\n",
    "\n",
    "    def get_config(self):\n",
    "        config = super().get_config()\n",
    "        config.update(\n",
    "            {\n",
    "                \"key_dim\": self.key_dim,\n",
    "                \"embed_dim\": self.embed_dim,\n",
    "                \"num_heads\": self.num_heads,\n",
    "                \"ff_dim\": self.ff_dim,\n",
    "                \"dropout_rate\": self.dropout_rate,\n",
    "            }\n",
    "        )\n",
    "        return config\n",
    "\n",
    "class TokenAndPositionEmbedding(layers.Layer):\n",
    "    def __init__(self, max_len, vocab_size, embed_dim):\n",
    "        super(TokenAndPositionEmbedding, self).__init__()\n",
    "        self.max_len = max_len\n",
    "        self.vocab_size = vocab_size\n",
    "        self.embed_dim = embed_dim\n",
    "        self.token_emb = layers.Embedding(\n",
    "            input_dim=vocab_size, output_dim=embed_dim\n",
    "        )\n",
    "        self.pos_emb = layers.Embedding(input_dim=max_len, output_dim=embed_dim)\n",
    "\n",
    "    def call(self, x):\n",
    "        maxlen = tf.shape(x)[-1]\n",
    "        positions = tf.range(start=0, limit=maxlen, delta=1)\n",
    "        positions = self.pos_emb(positions)\n",
    "        x = self.token_emb(x)\n",
    "        return x + positions\n",
    "\n",
    "    def get_config(self):\n",
    "        config = super().get_config()\n",
    "        config.update(\n",
    "            {\n",
    "                \"max_len\": self.max_len,\n",
    "                \"vocab_size\": self.vocab_size,\n",
    "                \"embed_dim\": self.embed_dim,\n",
    "            }\n",
    "        )\n",
    "        return config"
   ]
  },
  {
   "cell_type": "code",
   "execution_count": 35,
   "id": "8c57596e-e17d-4959-b6e8-7581b0bace3a",
   "metadata": {},
   "outputs": [],
   "source": [
    "inputs = layers.Input(shape=(None,), dtype=tf.int32)\n",
    "x = TokenAndPositionEmbedding(MAX_LEN, VOCAB_SIZE, EMBEDDING_DIM)(inputs)\n",
    "x, attention_scores = TransformerBlock(\n",
    "    N_HEADS, KEY_DIM, EMBEDDING_DIM, FEED_FORWARD_DIM\n",
    ")(x)\n",
    "outputs = layers.Dense(VOCAB_SIZE, activation=\"softmax\")(x)\n",
    "model = models.Model(inputs=inputs, outputs=[outputs, attention_scores])\n",
    "model.compile(\"adam\", loss=[losses.SparseCategoricalCrossentropy(), None])"
   ]
  },
  {
   "cell_type": "code",
   "execution_count": 36,
   "id": "1a1c3b0f-3382-444d-bb04-bae143ae5d61",
   "metadata": {},
   "outputs": [
    {
     "name": "stdout",
     "output_type": "stream",
     "text": [
      "Model: \"model_1\"\n",
      "_________________________________________________________________\n",
      " Layer (type)                Output Shape              Param #   \n",
      "=================================================================\n",
      " input_2 (InputLayer)        [(None, None)]            0         \n",
      "                                                                 \n",
      " token_and_position_embeddi  (None, None, 512)         25665536  \n",
      " ng_1 (TokenAndPositionEmbe                                      \n",
      " dding)                                                          \n",
      "                                                                 \n",
      " transformer_block_1 (Trans  ((None, None, 512),       4728320   \n",
      " formerBlock)                 (None, 4, None, None))             \n",
      "                                                                 \n",
      " dense_5 (Dense)             (None, None, 50000)       25650000  \n",
      "                                                                 \n",
      "=================================================================\n",
      "Total params: 56043856 (213.79 MB)\n",
      "Trainable params: 56043856 (213.79 MB)\n",
      "Non-trainable params: 0 (0.00 Byte)\n",
      "_________________________________________________________________\n"
     ]
    }
   ],
   "source": [
    "model.summary()"
   ]
  },
  {
   "cell_type": "code",
   "execution_count": 37,
   "id": "3ddcff5f-829d-4449-99d2-9a3cb68f7d72",
   "metadata": {},
   "outputs": [],
   "source": [
    "class TextGenerator(callbacks.Callback):\n",
    "    def __init__(self, index_to_word, top_k=10):\n",
    "        self.index_to_word = index_to_word\n",
    "        self.word_to_index = {\n",
    "            word: index for index, word in enumerate(index_to_word)\n",
    "        }\n",
    "\n",
    "    def sample_from(self, probs, temperature):\n",
    "        probs = probs ** (1 / temperature)\n",
    "        probs = probs / np.sum(probs)\n",
    "        return np.random.choice(len(probs), p=probs), probs\n",
    "\n",
    "    def generate(self, start_prompt, max_tokens, temperature):\n",
    "        start_tokens = [\n",
    "            self.word_to_index.get(x, 1) for x in start_prompt.split()\n",
    "        ]\n",
    "        sample_token = None\n",
    "        info = []\n",
    "        while len(start_tokens) < max_tokens and sample_token != 0:\n",
    "            x = np.array([start_tokens])\n",
    "            y, att = self.model.predict(x, verbose=0)\n",
    "            sample_token, probs = self.sample_from(y[0][-1], temperature)\n",
    "            info.append(\n",
    "                {\n",
    "                    \"prompt\": start_prompt,\n",
    "                    \"word_probs\": probs,\n",
    "                    \"atts\": att[0, :, -1, :],\n",
    "                }\n",
    "            )\n",
    "            start_tokens.append(sample_token)\n",
    "            start_prompt = start_prompt + \" \" + self.index_to_word[sample_token]\n",
    "        print(f\"\\ngenerated text:\\n{start_prompt}\\n\")\n",
    "        return info\n",
    "\n",
    "    def on_epoch_end(self, epoch, logs=None):\n",
    "        self.generate(\"recipe for\", max_tokens=MAX_LEN, temperature=0.7)"
   ]
  },
  {
   "cell_type": "code",
   "execution_count": 38,
   "id": "349865fe-ffbe-450e-97be-043ae1740e78",
   "metadata": {},
   "outputs": [],
   "source": [
    "# Create a model save checkpoint\n",
    "model_checkpoint_callback = callbacks.ModelCheckpoint(\n",
    "    filepath=\"./checkpoint/checkpoint.ckpt\",\n",
    "    save_weights_only=True,\n",
    "    save_freq=\"epoch\",\n",
    "    verbose=0,\n",
    ")\n",
    "\n",
    "tensorboard_callback = callbacks.TensorBoard(log_dir=\"./logs\")\n",
    "\n",
    "# Tokenize starting prompt\n",
    "text_generator = TextGenerator(vocab)"
   ]
  },
  {
   "cell_type": "code",
   "execution_count": 39,
   "id": "461c2b3e-b5ae-4def-8bd9-e7bab8c63d8e",
   "metadata": {
    "tags": []
   },
   "outputs": [
    {
     "name": "stdout",
     "output_type": "stream",
     "text": [
      "Epoch 1/15\n",
      "8716/8716 [==============================] - ETA: 0s - loss: 1.6478 - dense_5_loss: 1.6478\n",
      "generated text:\n",
      "recipe for chocolate chip cookies | preheat oven to 350 degrees f . beat butter and sugars together until creamy . add in eggs , one at a time , beating well after each addition . sift flour , baking soda and salt . drop dough by rounded teaspoons onto greased cookie sheets . bake 10 - 12 minutes or until edges are light golden brown . cool on wire racks . \n",
      "\n",
      "8716/8716 [==============================] - 5234s 600ms/step - loss: 1.6478 - dense_5_loss: 1.6478\n",
      "Epoch 2/15\n",
      "8716/8716 [==============================] - ETA: 0s - loss: 1.5344 - dense_5_loss: 1.5344\n",
      "generated text:\n",
      "recipe for baked chicken with cream sauce | in a small saucepan , bring the water to a boil , add the chicken , salt , pepper , onion , and garlic powder ; cook until tender , about 5 minutes . drain and set aside . in a large skillet , cook the chicken in the oil until no longer pink . add the peppers , garlic and ginger ; cook for 1 minute . add the tomatoes , tomatoes , chili powder and salt ; stir to combine . bring to a boil ; reduce heat and simmer , covered , for 30 minutes . place a small amount of the sauce in a saucepan , and cook for 5 minutes . stir in the chicken\n",
      "\n",
      "8716/8716 [==============================] - 5242s 601ms/step - loss: 1.5344 - dense_5_loss: 1.5344\n",
      "Epoch 3/15\n",
      "8716/8716 [==============================] - ETA: 0s - loss: 1.5089 - dense_5_loss: 1.5089\n",
      "generated text:\n",
      "recipe for high fiber one - pot pasta with vegetable broth | in a large bowl , combine flour , baking powder , baking soda , cinnamon , allspice , nutmeg and salt . in a large skillet , heat the oil over medium - high heat . add the onion and garlic and cook until tender , about 5 minutes . add tomatoes , salt , and pepper to taste . bring to a boil , reduce heat and simmer until the vegetables are tender , about 10 minutes . remove the bay leaf and set aside . return the pot to a simmer . add the zucchini and kale to the pot , toss to combine . add the kale and stir to combine . adjust\n",
      "\n",
      "8716/8716 [==============================] - 5244s 602ms/step - loss: 1.5089 - dense_5_loss: 1.5089\n",
      "Epoch 4/15\n",
      "8716/8716 [==============================] - ETA: 0s - loss: 1.4943 - dense_5_loss: 1.4943\n",
      "generated text:\n",
      "recipe for grilled tofu with olive oil , lemon and garlic | to make the marinade : combine the soy sauce , 1 / 2 teaspoon of salt , 1 / 2 teaspoon pepper and 1 / 4 teaspoon of the salt in a medium bowl . add the tofu , the remaining 1 / 2 cup of olive oil , 3 / 4 teaspoon of salt and 1 / 4 teaspoon of pepper . combine the remaining 1 / 4 teaspoon of the salt , 1 tablespoon of olive oil , 1 / 4 teaspoon of the garlic , 1 / 8 teaspoon of salt and 1 / 2 teaspoon of pepper to the bowl . rub the remaining tablespoon of olive oil on the cut side\n",
      "\n",
      "8716/8716 [==============================] - 5246s 602ms/step - loss: 1.4943 - dense_5_loss: 1.4943\n",
      "Epoch 5/15\n",
      "8716/8716 [==============================] - ETA: 0s - loss: 1.4838 - dense_5_loss: 1.4838\n",
      "generated text:\n",
      "recipe for spinach and mushroom noodles with spicy mushroom sauce | remove the mushroom stems and wash the mushrooms . heat 2 tablespoons of the olive oil in a large skillet and add half of the mushrooms . saute on high heat until they become soft and begin to brown . remove from heat and set aside . add the mushrooms to the pan and saute for 3 minutes , until they begin to wilt . add the mushrooms and saute for another 5 minutes . add the mushrooms and cook for another 2 minutes . add the mushrooms and saute until mushrooms are cooked . add the mushrooms , thyme and garlic and saute for 1 minute . add the mushrooms , and cook for another minute\n",
      "\n",
      "8716/8716 [==============================] - 5245s 602ms/step - loss: 1.4838 - dense_5_loss: 1.4838\n",
      "Epoch 6/15\n",
      "8716/8716 [==============================] - ETA: 0s - loss: 1.4763 - dense_5_loss: 1.4763\n",
      "generated text:\n",
      "recipe for sig ' s [UNK] ( spicy [UNK] ) | the day before you get rid of the flour or spices . your choice . warm a skillet , melt the butter and add the onion and cook until soft , stirring constantly . stir in the tomatoes , salt and pepper to taste . add the beans and simmer for 20 minutes or until the sauce thickens . remove from heat and add the cooked rice , coriander , chilli and lime juice . season to taste with salt and pepper . serve with steamed rice . \n",
      "\n",
      "8716/8716 [==============================] - 5246s 602ms/step - loss: 1.4763 - dense_5_loss: 1.4763\n",
      "Epoch 7/15\n",
      "8716/8716 [==============================] - ETA: 0s - loss: 1.4705 - dense_5_loss: 1.4705\n",
      "generated text:\n",
      "recipe for cider - glazed pork | place pork cubes in a large skillet ; sprinkle with salt and pepper . cook , uncovered , over medium heat until meat is no longer pink , about 5 minutes . drain . stir in water and vinegar ; pour into skillet . bring to a boil . reduce heat ; cover and simmer for 10 minutes . remove from the heat ; stir in cranberries . sprinkle with the cheese . cover and cook over low heat until cheese melts , stirring occasionally . \n",
      "\n",
      "8716/8716 [==============================] - 5245s 602ms/step - loss: 1.4705 - dense_5_loss: 1.4705\n",
      "Epoch 8/15\n",
      "8716/8716 [==============================] - ETA: 0s - loss: 1.4658 - dense_5_loss: 1.4658\n",
      "generated text:\n",
      "recipe for chocolate kiss cookies | preheat the oven to 350 degrees f ( 175 degrees c ) . line two baking sheets with parchment paper . in a large bowl , sift together the flour , cocoa powder , baking soda , and salt . in a large bowl , cream together the butter , brown sugar , and vanilla . add the eggs one at a time , beating until smooth . stir in the buttermilk , then the cocoa powder , baking soda and salt . stir in the flour mixture until combined . cover and refrigerate for at least two hours or up to two days . roll the dough into balls , then roll the balls in sugar to coat , then place\n",
      "\n",
      "8716/8716 [==============================] - 5247s 602ms/step - loss: 1.4658 - dense_5_loss: 1.4658\n",
      "Epoch 9/15\n",
      "8716/8716 [==============================] - ETA: 0s - loss: 1.4618 - dense_5_loss: 1.4618\n",
      "generated text:\n",
      "recipe for brussels sprouts with walnuts | preheat oven to 350f . melt butter in a pan over medium heat . add walnuts and brown sugar and cook until hot . remove from heat . set aside . in a large bowl , beat egg with sugar until light and fluffy . add walnuts , lemon zest , vanilla , and salt . stir together until combined . add walnuts and cranberries . pour into a greased 9x13 baking dish . bake for 40 - 45 minutes . \n",
      "\n",
      "8716/8716 [==============================] - 5249s 602ms/step - loss: 1.4618 - dense_5_loss: 1.4618\n",
      "Epoch 10/15\n",
      "8716/8716 [==============================] - ETA: 0s - loss: 1.4582 - dense_5_loss: 1.4582\n",
      "generated text:\n",
      "recipe for easy chicken curry | heat the oil in a large skillet over medium - high heat . add the chicken , curry powder , garlic , ginger and salt . saute for 5 minutes , or until the mixture is slightly brown . transfer the chicken to a platter , cover with foil , and reduce heat to medium - low . add the curry paste and cook , stirring , until the tomatoes have softened , about 5 minutes . add the remaining ingredients and bring to a boil . reduce heat to low and simmer until reduced by 1 / 2 . stir in the peanut butter , about 5 minutes . heat a gas or charcoal grill until lightly browned and cooked through\n",
      "\n",
      "8716/8716 [==============================] - 5252s 603ms/step - loss: 1.4582 - dense_5_loss: 1.4582\n",
      "Epoch 11/15\n",
      "8716/8716 [==============================] - ETA: 0s - loss: 1.4553 - dense_5_loss: 1.4553\n",
      "generated text:\n",
      "recipe for nachos | place the ground beef , onion , garlic , chili powder , cumin , garlic powder , and salt into a bowl ; stir to combine . set aside . cook ground beef in a nonstick skillet over medium high heat until browned ; drain . add the onion . cook , stirring occasionally , until browned , about 5 minutes . add beef and tomato sauce ; cook , stirring , for 1 minute . stir in tomato sauce and beer . bring to a boil ; reduce heat , cover , and simmer for 15 minutes . stir in beans . \n",
      "\n",
      "8716/8716 [==============================] - 5260s 603ms/step - loss: 1.4553 - dense_5_loss: 1.4553\n",
      "Epoch 12/15\n",
      "8716/8716 [==============================] - ETA: 0s - loss: 1.4530 - dense_5_loss: 1.4530\n",
      "generated text:\n",
      "recipe for ma ' s oil | mix all ingredients together in a medium bowl . cover and refrigerate for at least two hours . \n",
      "\n",
      "8716/8716 [==============================] - 5255s 603ms/step - loss: 1.4530 - dense_5_loss: 1.4530\n",
      "Epoch 13/15\n",
      "8716/8716 [==============================] - ETA: 0s - loss: 1.4505 - dense_5_loss: 1.4505\n",
      "generated text:\n",
      "recipe for white chocolate - raspberry cheesecake | preheat oven to 350f . to prepare crust , mix cake mix , melted butter and sugar until crumbly . press into 9 inch springform pan . bake 10 minutes . set aside to cool . filling : mix cream cheese , sour cream , powdered sugar , vanilla and eggs in bowl . mix well . stir in melted chocolate . combine melted chocolate chips and spread evenly over crust . refrigerate until set . filling : . mix cream cheese and powdered sugar until smooth . add remaining white chocolate chips and mix well . pour 1 / 2 cup batter into prepared crust . bake for 35 minutes . cool completely on wire rack . refrigerate ,\n",
      "\n",
      "8716/8716 [==============================] - 5252s 603ms/step - loss: 1.4505 - dense_5_loss: 1.4505\n",
      "Epoch 14/15\n",
      "8716/8716 [==============================] - ETA: 0s - loss: 1.4481 - dense_5_loss: 1.4481\n",
      "generated text:\n",
      "recipe for kraft signature cheese swirls | spread bread with cream cheese ; top with fruit . top with remaining ingredients . \n",
      "\n",
      "8716/8716 [==============================] - 5248s 602ms/step - loss: 1.4481 - dense_5_loss: 1.4481\n",
      "Epoch 15/15\n",
      "8716/8716 [==============================] - ETA: 0s - loss: 1.4464 - dense_5_loss: 1.4464\n",
      "generated text:\n",
      "recipe for banana nut bread | combine the flour , baking powder , baking soda and salt in a bowl , cream together butter , sugar , vanilla , and eggs . mix until light and fluffy . add the dry ingredients alternately with milk . stir in bananas and nuts . pour batter into 2 greased loaf pans . bake at 350\\u00b0 for 1 hour or until done . \n",
      "\n",
      "8716/8716 [==============================] - 5245s 602ms/step - loss: 1.4464 - dense_5_loss: 1.4464\n"
     ]
    },
    {
     "data": {
      "text/plain": [
       "<keras.src.callbacks.History at 0x7f8900365f10>"
      ]
     },
     "execution_count": 39,
     "metadata": {},
     "output_type": "execute_result"
    }
   ],
   "source": [
    "model.fit(\n",
    "    train_ds,\n",
    "    epochs=EPOCHS,\n",
    "    callbacks=[model_checkpoint_callback, tensorboard_callback, text_generator],\n",
    ")"
   ]
  },
  {
   "cell_type": "code",
   "execution_count": 40,
   "id": "369bde44-2e39-4bc6-8549-a3a27ecce55c",
   "metadata": {
    "tags": []
   },
   "outputs": [
    {
     "name": "stdout",
     "output_type": "stream",
     "text": [
      "INFO:tensorflow:Assets written to: ./models/model/assets\n"
     ]
    },
    {
     "name": "stderr",
     "output_type": "stream",
     "text": [
      "INFO:tensorflow:Assets written to: ./models/model/assets\n"
     ]
    }
   ],
   "source": [
    "# Save the final model\n",
    "model.save(\"./models/model\")"
   ]
  },
  {
   "cell_type": "code",
   "execution_count": 41,
   "id": "63a3e315-2993-4122-ad36-395a7e0b732f",
   "metadata": {},
   "outputs": [
    {
     "name": "stdout",
     "output_type": "stream",
     "text": [
      "\n",
      "generated text:\n",
      "recipe for vanilla whipped cream parfaits with berries | combine 2 tablespoons of the sugar , 1 / 2 cup of the water in a medium saucepan and bring to a boil . reduce heat to medium - low and continue to cook until the mixture registers 160 degrees f , about 25 minutes . meanwhile , bring a large pot of lightly salted water to a boil ; add the angel food to the bottom of the saucepan ; remove from the heat and let cool . place the berries and citrus juices in a small , heavy saucepan and bring to a boil . reduce the heat to low and simmer for 5 minutes , or until it reaches the temperature of an instant - read\n",
      "\n"
     ]
    }
   ],
   "source": [
    "info = text_generator.generate(\n",
    "    \"recipe for vanilla whipped cream parfaits with berries |\", max_tokens=MAX_LEN, temperature=0.7\n",
    ")"
   ]
  },
  {
   "cell_type": "code",
   "execution_count": 42,
   "id": "325ff341-365d-4731-ae26-efadcc27a924",
   "metadata": {},
   "outputs": [
    {
     "name": "stdout",
     "output_type": "stream",
     "text": [
      "\n",
      "generated text:\n",
      "recipe for chocolate chip cookies | preheat oven to 350 degrees f ( 175 degrees c ) . cream together margarine , cream cheese , sugar , and vanilla . add flour , salt and baking soda and stir until blended . add chocolate chips . drop by rounded teaspoonfuls onto ungreased cookie sheets . bake 8 to 10 minutes in preheated oven . cool on baking sheets for about 2 minutes before removing to wire racks to cool completely . \n",
      "\n"
     ]
    }
   ],
   "source": [
    "info = text_generator.generate(\n",
    "    \"recipe for chocolate chip cookies |\", max_tokens=MAX_LEN, temperature=0.7\n",
    ")"
   ]
  },
  {
   "cell_type": "code",
   "execution_count": 43,
   "id": "b0142f8d-fd86-4354-b282-e86d174f980f",
   "metadata": {},
   "outputs": [
    {
     "name": "stdout",
     "output_type": "stream",
     "text": [
      "\n",
      "generated text:\n",
      "recipe for chicken noodle soup | place the chicken in a large dutch oven . add the chicken stock , water , and spices . bring to a boil . skim off the foam . reduce the heat , cover , and simmer for 1 1 / 2 hours . remove the chicken from the bones , pull the chicken out of the bones and discard them . return the broth to the pot . bring to a boil . reduce the heat to low . simmer , uncovered , for 30 minutes . strain and skim off any foam that rises to the surface . discard the bay leaf . skim off any fat from the broth . add the chicken back into the pot . add\n",
      "\n"
     ]
    }
   ],
   "source": [
    "info = text_generator.generate(\n",
    "    \"recipe for chicken noodle soup |\", max_tokens=MAX_LEN, temperature=0.7\n",
    ")"
   ]
  },
  {
   "cell_type": "code",
   "execution_count": 44,
   "id": "82c0b067-f67d-4d14-8e7f-cae6c23b7bfc",
   "metadata": {},
   "outputs": [
    {
     "name": "stdout",
     "output_type": "stream",
     "text": [
      "\n",
      "generated text:\n",
      "recipe for sugar cookies | preheat oven to 375f grease baking sheets . stir together flour , baking powder , baking soda , cinnamon , nutmeg , and cloves . in a large bowl , using a wooden spoon , stir in chocolate chips until smooth , 2 to 3 minutes . drop rounded tablespoonfuls of dough onto prepared baking sheets , spacing cookies 2 inches apart . bake cookies until edges begin to brown , 5 to 6 minutes . cool on baking sheets for 1 minute , watching closely so cookies don ' t move them around to cooling racks . cookies will harden as they cool . \n",
      "\n"
     ]
    }
   ],
   "source": [
    "info = text_generator.generate(\n",
    "    \"recipe for sugar cookies |\", max_tokens=MAX_LEN, temperature=0.7\n",
    ")"
   ]
  },
  {
   "cell_type": "code",
   "execution_count": 45,
   "id": "18eaba31-9be0-4f4f-9bd5-7574d372c654",
   "metadata": {},
   "outputs": [
    {
     "name": "stdout",
     "output_type": "stream",
     "text": [
      "\n",
      "generated text:\n",
      "recipe for grilled cheese | in a medium saucepan , combine the cottage cheese , butter , lemon juice , and mustard , and pepper . heat over medium heat until butter is melted . pour in the cheese mixture . stir until it is well combined . cover the pan and let it melt . spread the mixture over the cheese layer . sprinkle with the remaining cheese . cover and refrigerate overnight . remove the pan from the refrigerator and let it come to room temperature . preheat the oven to 350 degrees f . spread the onions on a rimmed baking sheet . bake for 1 hour , until they are crispy and crispy , about 20 minutes . \n",
      "\n"
     ]
    }
   ],
   "source": [
    "info = text_generator.generate(\n",
    "    \"recipe for grilled cheese |\", max_tokens=MAX_LEN, temperature=0.7\n",
    ")"
   ]
  },
  {
   "cell_type": "code",
   "execution_count": 46,
   "id": "706e449e-1027-45f0-a609-7848fc523440",
   "metadata": {},
   "outputs": [
    {
     "name": "stdout",
     "output_type": "stream",
     "text": [
      "\n",
      "generated text:\n",
      "recipe for chicken breast | preheat oven to 350 degrees . grease a 9x13 inch baking pan or pyrex dish . in a large bowl , combine the soup , sour cream , and parmesan cheese . mix until blended . add chicken and mix well . pour into prepared baking dish . season with salt and pepper . sprinkle cheese over top . bake 45 minutes to an hour , or until cheese is melted . \n",
      "\n"
     ]
    }
   ],
   "source": [
    "info = text_generator.generate(\n",
    "    \"recipe for chicken breast |\", max_tokens=MAX_LEN, temperature=0.7\n",
    ")"
   ]
  },
  {
   "cell_type": "code",
   "execution_count": null,
   "id": "92ed209e-cde9-4242-b2ee-47468f7b9e82",
   "metadata": {},
   "outputs": [],
   "source": []
  },
  {
   "cell_type": "code",
   "execution_count": null,
   "id": "7c34f268-930a-4046-a657-dd92b82cd7f5",
   "metadata": {},
   "outputs": [],
   "source": []
  }
 ],
 "metadata": {
  "kernelspec": {
   "display_name": "Tensorflow 2",
   "language": "python",
   "name": "tensorflow"
  },
  "language_info": {
   "codemirror_mode": {
    "name": "ipython",
    "version": 3
   },
   "file_extension": ".py",
   "mimetype": "text/x-python",
   "name": "python",
   "nbconvert_exporter": "python",
   "pygments_lexer": "ipython3",
   "version": "3.11.0"
  },
  "vscode": {
   "interpreter": {
    "hash": "31f2aee4e71d21fbe5cf8b01ff0e069b9275f58929596ceb00d14d90e3e16cd6"
   }
  }
 },
 "nbformat": 4,
 "nbformat_minor": 5
}
